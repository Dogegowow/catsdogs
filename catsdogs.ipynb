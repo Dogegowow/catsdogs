{
  "nbformat": 4,
  "nbformat_minor": 0,
  "metadata": {
    "colab": {
      "provenance": [],
      "gpuType": "T4",
      "mount_file_id": "1QduA9eea44zVSQgII0cQmiB9yV21ldWw",
      "authorship_tag": "ABX9TyO4dCcPaWTayr2glpuq6yGI",
      "include_colab_link": true
    },
    "kernelspec": {
      "name": "python3",
      "display_name": "Python 3"
    },
    "language_info": {
      "name": "python"
    },
    "accelerator": "GPU"
  },
  "cells": [
    {
      "cell_type": "markdown",
      "metadata": {
        "id": "view-in-github",
        "colab_type": "text"
      },
      "source": [
        "<a href=\"https://colab.research.google.com/github/Dogegowow/catsdogs/blob/main/catsdogs.ipynb\" target=\"_parent\"><img src=\"https://colab.research.google.com/assets/colab-badge.svg\" alt=\"Open In Colab\"/></a>"
      ]
    },
    {
      "cell_type": "markdown",
      "source": [
        "Pozdravljeni, v tej beležki Google Colab bom naredil algoritem za razvrščanje mačk in psov s knjižnjico Tensorflow. Nevronsko mrežo bom naučil na setu podatkov iz Kaggle: https://www.kaggle.com/datasets/tongpython/cat-and-dog. Mrežo bom naučil v Google Colabu, kasneje bom kodo vključno s podatki naložil še na Github za lažjo uporabo."
      ],
      "metadata": {
        "id": "O7nnKXx5Ed3K"
      }
    },
    {
      "cell_type": "code",
      "source": [
        "import cv2\n",
        "import os\n",
        "import numpy as np\n",
        "from os import path\n",
        "import keras\n",
        "from keras import Sequential\n",
        "from keras.layers import Conv2D, Dense, MaxPooling2D, Flatten, ReLU\n",
        "from keras import Model\n",
        "import tensorflow as tf\n",
        "from pathlib import Path\n",
        "from sklearn.model_selection import train_test_split\n",
        "import matplotlib.pyplot as plt"
      ],
      "metadata": {
        "id": "Sc88KyAhEP48"
      },
      "execution_count": 57,
      "outputs": []
    },
    {
      "cell_type": "markdown",
      "source": [
        "Tu vstavite še svojo pot na računalniku do slik.\n",
        "Naj ne bo pred in za njo nič presledkov. -- path\n",
        "\n",
        "Za testiranje podajte celotno pot s končnico slike vred. -- image_path"
      ],
      "metadata": {
        "id": "v116hXxziOU-"
      }
    },
    {
      "cell_type": "code",
      "source": [
        "path = \"/content/drive/MyDrive/catdog/test_set\"\n",
        "image_path = \"/content/drive/MyDrive/catdog/test_set/cats/cat.4990.jpg\""
      ],
      "metadata": {
        "id": "ac5IhFVNiDRW"
      },
      "execution_count": 68,
      "outputs": []
    },
    {
      "cell_type": "markdown",
      "source": [
        "V tem sklopu kode se določi numpy array z črno-belo vrednostjo slike ter ID-jem za psa ali mačko."
      ],
      "metadata": {
        "id": "Re-ZA5fGaFAB"
      }
    },
    {
      "cell_type": "code",
      "source": [
        "data = []\n",
        "for folder in os.listdir(path):\n",
        "  if os.path.isdir(f\"{path}/{folder}\"):\n",
        "    for files in os.listdir(f\"{path}/{folder}\"):\n",
        "      zival = files.split('.')[0]\n",
        "      if zival == 'cat':\n",
        "        image = cv2.resize(cv2.imread(f\"{path}/cats/{files}\"), (100, 100))\n",
        "        gray = cv2.cvtColor(image, cv2.COLOR_BGR2GRAY)\n",
        "        data.append([gray, np.array([0, 1])])\n",
        "      elif zival == 'dog':\n",
        "        image = cv2.resize(cv2.imread(f\"{path}/dogs/{files}\"), (100, 100))\n",
        "        gray = cv2.cvtColor(image, cv2.COLOR_BGR2GRAY)\n",
        "        data.append([gray, np.array([1, 0])])"
      ],
      "metadata": {
        "id": "CNePpKt-YMFk"
      },
      "execution_count": 34,
      "outputs": []
    },
    {
      "cell_type": "markdown",
      "source": [
        "Tu se definira predhodne efekte, ki bodo delovali na sliki, preden bo kot neka številka posredovana nevronski mreži za razvrščanje.\n",
        "\n",
        "Conv2D pomeni konvolucija, pri čemer se vzame kernel z matrico 3x3, ki se sprehaja po sliki in s tem ustvari nekakšno mrežo številk, ki se uporabljajo za nadajnje postopke. To se naredi za vsakega od treh (RGB) kanalov.\n",
        "\n",
        "MaxPooling2D vzame največjo vrednost iz kernela in odpusti ostale ter s tem downsiza sliko.\n",
        "\n",
        "Flatten to tridimenzionalno sliko, ki je sestavljena iz višine, širine in rgb kanalov splošči v eno dimenzijo.\n",
        "\n",
        "To se poda nevroski mreži, ki jo definiramo z Dense, v mojem primeru imam dva layerja, enega z 512 nodi in enega z dvemi."
      ],
      "metadata": {
        "id": "GX-bpeQiIA_i"
      }
    },
    {
      "cell_type": "code",
      "source": [
        "model = Sequential()\n",
        "\n",
        "model.add(Conv2D(64, (3, 3), activation='relu', input_shape=(100, 100, 1), padding='same'))\n",
        "model.add(Conv2D(64, (3, 3), activation='relu'))\n",
        "model.add(MaxPooling2D((2,2)))\n",
        "model.add(Conv2D(64, (3, 3), activation='relu'))\n",
        "model.add(MaxPooling2D((2,2)))\n",
        "model.add(Conv2D(32, (3, 3), activation='relu'))\n",
        "model.add(MaxPooling2D((2,2)))\n",
        "model.add(Conv2D(32, (3, 3), activation='relu'))\n",
        "model.add(MaxPooling2D((2,2)))\n",
        "model.add(Conv2D(32, (3, 3), activation='relu'))\n",
        "model.add(MaxPooling2D((2,2)))\n",
        "\n",
        "model.add(Flatten())\n",
        "model.add(Dense(512, activation='relu'))\n",
        "model.add(Dense(2, activation='softmax'))\n",
        "\n",
        "model.summary()"
      ],
      "metadata": {
        "id": "wHOZFL4sd9a0",
        "colab": {
          "base_uri": "https://localhost:8080/"
        },
        "outputId": "0b8eb528-d8a6-4d6c-9c0d-ef1087af0027"
      },
      "execution_count": 2,
      "outputs": [
        {
          "output_type": "stream",
          "name": "stdout",
          "text": [
            "Model: \"sequential\"\n",
            "_________________________________________________________________\n",
            " Layer (type)                Output Shape              Param #   \n",
            "=================================================================\n",
            " conv2d (Conv2D)             (None, 100, 100, 64)      640       \n",
            "                                                                 \n",
            " conv2d_1 (Conv2D)           (None, 98, 98, 64)        36928     \n",
            "                                                                 \n",
            " max_pooling2d (MaxPooling2  (None, 49, 49, 64)        0         \n",
            " D)                                                              \n",
            "                                                                 \n",
            " conv2d_2 (Conv2D)           (None, 47, 47, 64)        36928     \n",
            "                                                                 \n",
            " max_pooling2d_1 (MaxPoolin  (None, 23, 23, 64)        0         \n",
            " g2D)                                                            \n",
            "                                                                 \n",
            " conv2d_3 (Conv2D)           (None, 21, 21, 32)        18464     \n",
            "                                                                 \n",
            " max_pooling2d_2 (MaxPoolin  (None, 10, 10, 32)        0         \n",
            " g2D)                                                            \n",
            "                                                                 \n",
            " conv2d_4 (Conv2D)           (None, 8, 8, 32)          9248      \n",
            "                                                                 \n",
            " max_pooling2d_3 (MaxPoolin  (None, 4, 4, 32)          0         \n",
            " g2D)                                                            \n",
            "                                                                 \n",
            " conv2d_5 (Conv2D)           (None, 2, 2, 32)          9248      \n",
            "                                                                 \n",
            " max_pooling2d_4 (MaxPoolin  (None, 1, 1, 32)          0         \n",
            " g2D)                                                            \n",
            "                                                                 \n",
            " flatten (Flatten)           (None, 32)                0         \n",
            "                                                                 \n",
            " dense (Dense)               (None, 512)               16896     \n",
            "                                                                 \n",
            " dense_1 (Dense)             (None, 2)                 1026      \n",
            "                                                                 \n",
            "=================================================================\n",
            "Total params: 129378 (505.38 KB)\n",
            "Trainable params: 129378 (505.38 KB)\n",
            "Non-trainable params: 0 (0.00 Byte)\n",
            "_________________________________________________________________\n"
          ]
        }
      ]
    },
    {
      "cell_type": "markdown",
      "source": [
        "Tu naš array z vrednostmi razdelimo na train in test split v razmerju 9:1.\n",
        "Vrednostim, ki predstavljajo slike, spremenimo v previlne dimenzije, v našem primeru imamo 4.\n",
        "Nato z prej določenimi parametri modela compilamo model in je pripravljen za trening."
      ],
      "metadata": {
        "id": "ZC7u3jSYpQCa"
      }
    },
    {
      "cell_type": "code",
      "source": [
        "train , test = train_test_split(data, test_size = 0.1, shuffle = True)\n",
        "X = np.array([i[0] for i in train]).reshape(-1, 100, 100, 1)\n",
        "Y = np.array([i[1] for i in train])\n",
        "\n",
        "x_valid = np.array([i[0] for i in test]).reshape(-1, 100, 100, 1)\n",
        "y_valid = np.array([i[1] for i in test])\n",
        "X = X.astype('float32')/255\n",
        "x_valid = x_valid.astype('float32')/255\n",
        "opt = tf.keras.optimizers.Adam(learning_rate=0.0001)\n",
        "\n",
        "model.compile(loss= 'categorical_crossentropy', optimizer= opt, metrics=['accuracy'])"
      ],
      "metadata": {
        "id": "ct8rZ_3K57ZP"
      },
      "execution_count": 36,
      "outputs": []
    },
    {
      "cell_type": "markdown",
      "source": [
        "Zdaj bom natreniral nevronsko mrežo. S številom epochov lahko spreminjamo čas, potreben za treniranje, vendar to obratno sorazmerno deluje na natančnost modela."
      ],
      "metadata": {
        "id": "6TBftBiCYuxP"
      }
    },
    {
      "cell_type": "code",
      "source": [
        "model.fit(X, Y, batch_size= 10, epochs= 30, verbose= 1, validation_data=(x_valid,y_valid))"
      ],
      "metadata": {
        "id": "FPqb0oOeYt-P",
        "colab": {
          "base_uri": "https://localhost:8080/"
        },
        "outputId": "9d0e3d12-8cbf-4e1e-b87b-b730d94c45e6"
      },
      "execution_count": 37,
      "outputs": [
        {
          "output_type": "stream",
          "name": "stdout",
          "text": [
            "Epoch 1/3\n",
            "12/12 [==============================] - 13s 965ms/step - loss: 0.6877 - accuracy: 0.6814 - val_loss: 0.6632 - val_accuracy: 0.8462\n",
            "Epoch 2/3\n",
            "12/12 [==============================] - 9s 754ms/step - loss: 0.6705 - accuracy: 0.6814 - val_loss: 0.6145 - val_accuracy: 0.8462\n",
            "Epoch 3/3\n",
            "12/12 [==============================] - 8s 659ms/step - loss: 0.6452 - accuracy: 0.6814 - val_loss: 0.5278 - val_accuracy: 0.8462\n"
          ]
        },
        {
          "output_type": "execute_result",
          "data": {
            "text/plain": [
              "<keras.src.callbacks.History at 0x7910404b0d00>"
            ]
          },
          "metadata": {},
          "execution_count": 37
        }
      ]
    },
    {
      "cell_type": "markdown",
      "source": [
        "Z zagonom teh zadnjih dveh odsekov pa lahko preverite natančnost svojega izdelanega modela."
      ],
      "metadata": {
        "id": "Zr7R87lWqi8J"
      }
    },
    {
      "cell_type": "code",
      "source": [
        "classes = {0:\"Cat\",1:'Dog'}\n",
        "for i in classes.items():\n",
        "    print(i)"
      ],
      "metadata": {
        "id": "EObfhUNsiAIE",
        "colab": {
          "base_uri": "https://localhost:8080/"
        },
        "outputId": "6940294d-45a6-42ef-ac5f-d396f6fb6e74"
      },
      "execution_count": 40,
      "outputs": [
        {
          "output_type": "stream",
          "name": "stdout",
          "text": [
            "(0, 'Cat')\n",
            "(1, 'Dog')\n"
          ]
        }
      ]
    },
    {
      "cell_type": "code",
      "source": [
        "new_img = cv2.resize(cv2.imread(image_path), (100, 100))\n",
        "gray = cv2.cvtColor(new_img, cv2.COLOR_BGR2GRAY)\n",
        "gray = gray.reshape(1, 100, 100, 1)\n",
        "prediction = model.predict(gray)\n",
        "prediction = np.argmax(prediction,axis=1)\n",
        "print(classes[prediction[0]])\n",
        "plt.imshow(new_img)"
      ],
      "metadata": {
        "id": "as2C-g83kbOU",
        "colab": {
          "base_uri": "https://localhost:8080/",
          "height": 491
        },
        "outputId": "85d7490c-d30d-4509-aac8-f04211405437"
      },
      "execution_count": 69,
      "outputs": [
        {
          "output_type": "stream",
          "name": "stdout",
          "text": [
            "1/1 [==============================] - 0s 48ms/step\n",
            "Cat\n"
          ]
        },
        {
          "output_type": "execute_result",
          "data": {
            "text/plain": [
              "<matplotlib.image.AxesImage at 0x7910418384c0>"
            ]
          },
          "metadata": {},
          "execution_count": 69
        },
        {
          "output_type": "display_data",
          "data": {
            "text/plain": [
              "<Figure size 640x480 with 1 Axes>"
            ],
            "image/png": "[encoded data removed]"
          },
          "metadata": {}
        }
      ]
    }
  ]
}